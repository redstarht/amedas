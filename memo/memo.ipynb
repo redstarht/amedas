{
 "cells": [
  {
   "cell_type": "code",
   "execution_count": 5,
   "metadata": {},
   "outputs": [
    {
     "name": "stdout",
     "output_type": "stream",
     "text": [
      "2024-09-02\n"
     ]
    }
   ],
   "source": [
    "k = \"2024-9-02\"\n",
    "\n",
    "import datetime\n",
    "\n",
    "raw= datetime.datetime.strptime(k,\"%Y-%m-%d\")\n",
    "fix=raw.strftime(\"%Y-%m-%d\")\n",
    "\n",
    "print(fix)"
   ]
  },
  {
   "cell_type": "code",
   "execution_count": null,
   "metadata": {},
   "outputs": [],
   "source": []
  }
 ],
 "metadata": {
  "kernelspec": {
   "display_name": "lesson_venv",
   "language": "python",
   "name": "python3"
  },
  "language_info": {
   "codemirror_mode": {
    "name": "ipython",
    "version": 3
   },
   "file_extension": ".py",
   "mimetype": "text/x-python",
   "name": "python",
   "nbconvert_exporter": "python",
   "pygments_lexer": "ipython3",
   "version": "3.12.2"
  }
 },
 "nbformat": 4,
 "nbformat_minor": 2
}
