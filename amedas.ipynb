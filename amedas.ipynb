{
 "cells": [
  {
   "cell_type": "code",
   "execution_count": null,
   "metadata": {},
   "outputs": [],
   "source": [
    "# SQLite\n",
    "\n",
    "import sqlite3\n",
    "\n",
    "db_path=\"amedas.db\"\n",
    "\n",
    "#\"\"\" で囲むと改行して記述できる\n",
    "sql_create_1=\"\"\"\n",
    "    CREATE TABLE m_amdno (\n",
    "    amdno INT NOT NULL ,\n",
    "    city_name TEXT NOT NULL,\n",
    "    CONSTRAINT m_amdno_pk primary key(amdno)\n",
    ") \n",
    "\"\"\"\n",
    "\n",
    "with sqlite3.connect(db_path) as conn:\n",
    "    try: #try エラーが起きたら exceptのところにいくという処理\n",
    "        cur = conn.cursor()\n",
    "        cur.execute(sql_create_1)\n",
    "        conn.commit()\n",
    "    except:\n",
    "        conn.rollback()\n"
   ]
  }
 ],
 "metadata": {
  "language_info": {
   "name": "python"
  }
 },
 "nbformat": 4,
 "nbformat_minor": 2
}
